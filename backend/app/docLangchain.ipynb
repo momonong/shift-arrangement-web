{
 "cells": [
  {
   "cell_type": "code",
   "execution_count": null,
   "metadata": {},
   "outputs": [],
   "source": [
    "import chat\n",
    "import streamlit as st\n",
    "from streamlit_chat import message\n",
    "\n",
    "#Creating the chatbot interface\n",
    "st.title(\"LLM-Powered Chatbot for Intelligent Conversations\")\n",
    "st.subheader(\"AVA-Abonia Virtual Assistant\")\n",
    "\n",
    "# Storing the chat\n",
    "if 'generated' not in st.session_state:\n",
    "    st.session_state['generated'] = []\n",
    "\n",
    "if 'past' not in st.session_state:\n",
    "    st.session_state['past'] = []\n",
    "\n",
    "# Define a function to clear the input text\n",
    "def clear_input_text():\n",
    "    global input_text\n",
    "    input_text = \"\"\n",
    "\n",
    "# We will get the user's input by calling the get_text function\n",
    "def get_text():\n",
    "    global input_text\n",
    "    input_text = st.text_input(\"Ask your Question\", key=\"input\", on_change=clear_input_text)\n",
    "    return input_text\n",
    "\n",
    "def main():\n",
    "    user_input = get_text()\n",
    "\n",
    "    if user_input:\n",
    "        output = chat.answer(user_input)\n",
    "        # store the output \n",
    "        st.session_state.past.append(user_input)\n",
    "        st.session_state.generated.append(output)\n",
    "\n",
    "    if st.session_state['generated']:\n",
    "        for i in range(len(st.session_state['generated'])-1, -1, -1):\n",
    "            message(st.session_state[\"generated\"][i], key=str(i))\n",
    "            message(st.session_state['past'][i], is_user=True, key=str(i) + '_user')\n",
    "\n",
    "# Run the app\n",
    "if __name__ == \"__main__\":\n",
    "    main()"
   ]
  }
 ],
 "metadata": {
  "language_info": {
   "name": "python"
  }
 },
 "nbformat": 4,
 "nbformat_minor": 2
}
